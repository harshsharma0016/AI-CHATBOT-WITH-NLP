{
 "cells": [
  {
   "cell_type": "code",
   "execution_count": null,
   "id": "a41976cc-8192-45f5-99ec-f9c52e6aab62",
   "metadata": {},
   "outputs": [
    {
     "name": "stdout",
     "output_type": "stream",
     "text": [
      "============================================================\n",
      "🎓 Welcome to MRIIRS Virtual Assistant\n",
      "🤖 Type your question about Manav Rachna International Institute of Research Studies\n",
      "💬 Type 'exit' to end the chat\n",
      "============================================================\n"
     ]
    },
    {
     "name": "stdin",
     "output_type": "stream",
     "text": [
      "👨‍🎓 You:  hi\n"
     ]
    },
    {
     "name": "stdout",
     "output_type": "stream",
     "text": [
      "🤖 MRIIRS Bot: Hello! Welcome to Manav Rachna. How can I assist you today?\n"
     ]
    },
    {
     "name": "stdin",
     "output_type": "stream",
     "text": [
      "👨‍🎓 You:  what are courses\n"
     ]
    },
    {
     "name": "stdout",
     "output_type": "stream",
     "text": [
      "🤖 MRIIRS Bot: We offer UG, PG, and PhD programs in Engineering, Management, Science, Humanities, and more.\n"
     ]
    },
    {
     "name": "stdin",
     "output_type": "stream",
     "text": [
      "👨‍🎓 You:  what is fees\n"
     ]
    },
    {
     "name": "stdout",
     "output_type": "stream",
     "text": [
      "🤖 MRIIRS Bot: The fee varies by course. Some examples: BCA - ₹2,00,000 | BSc IT - ₹2,05,000 | MCA - ₹2,30,000.\n"
     ]
    }
   ],
   "source": [
    "import nltk\n",
    "import random\n",
    "import string\n",
    "from nltk.stem import PorterStemmer\n",
    "from sklearn.feature_extraction.text import TfidfVectorizer\n",
    "from sklearn.metrics.pairwise import cosine_similarity\n",
    "\n",
    "\n",
    "# FAQ Dataset \n",
    "faq_pairs = {\n",
    "    \"what courses are offered\": \"We offer UG, PG, and PhD programs in Engineering, i.e BCA  BSC IT MCA .\",\n",
    "    \"what is the admission process\": \"Admission is based on entrance exams (MRNAT/JEE) and merit. Visit the official website for details.\",\n",
    "    \"what is the fee structure\": \"The fee varies by course. Some examples: BCA - ₹2,00,000 | BSc IT - ₹2,05,000 | MCA - ₹2,30,000.\",\n",
    "    \"where is the campus located\": \"The campus is located in Faridabad, Haryana.\",\n",
    "    \"do you offer hostel facilities\": \"Yes, we offer separate hostels for boys and girls with all modern amenities.\",\n",
    "    \"what are the placement stats\": \"MRIIRS has a strong placement record. Companies like Infosys, TCS, Wipro, Accenture visit annually.\",\n",
    "    \"how to contact the university\": \"Contact us via email at info@mriirs.edu.in or call 1800-123-456.\",\n",
    "    \"what are the library timings\": \"The central library operates from 9 AM to 8 PM on weekdays.\",\n",
    "    \n",
    "    # Specific courses and fees\n",
    "    \"what is the fee for bca\": \"The fee for BCA is ₹2,00,000.\",\n",
    "    \"what is the fee for bsc it\": \"The fee for BSc IT is ₹2,05,000.\",\n",
    "    \"what is the fee for mca\": \"The fee for MCA is ₹2,30,000.\",\n",
    "    \"tell me about bca course\": \"BCA is a 3-year UG course in computer applications with a focus on programming and IT skills.\",\n",
    "    \"tell me about bsc it course\": \"BSc IT is a 3-year UG course covering networking, databases, and programming fundamentals.\",\n",
    "    \"tell me about mca course\": \"MCA is a 2-year PG course focused on software engineering, data structures, and application development.\"\n",
    "}\n",
    "\n",
    "\n",
    "stemmer = PorterStemmer()\n",
    "\n",
    "def preprocess(text):\n",
    "    text = text.lower().translate(str.maketrans('', '', string.punctuation))\n",
    "    tokens = nltk.word_tokenize(text)\n",
    "    stems = [stemmer.stem(token) for token in tokens]\n",
    "    return ' '.join(stems)\n",
    "\n",
    "# Greeting\n",
    "greeting_inputs = [\"hi\", \"hello\", \"hey\", \"good morning\", \"good afternoon\", \"good evening\"]\n",
    "greeting_responses = [\n",
    "    \"Hello! Welcome to Manav Rachna. How can I assist you today?\",\n",
    "    \"Hi there! Feel free to ask me anything about MRIIRS.\",\n",
    "    \"Greetings! How can I help you regarding Manav Rachna?\"\n",
    "]\n",
    "\n",
    "def is_greeting(sentence):\n",
    "    for word in sentence.lower().split():\n",
    "        if word in greeting_inputs:\n",
    "            return random.choice(greeting_responses)\n",
    "    return None\n",
    "\n",
    "\n",
    "questions = list(faq_pairs.keys())\n",
    "preprocessed_questions = [preprocess(q) for q in questions]\n",
    "answers = list(faq_pairs.values())\n",
    "\n",
    "vectorizer = TfidfVectorizer()\n",
    "X = vectorizer.fit_transform(preprocessed_questions)\n",
    "\n",
    "\n",
    "def chatbot_response(user_input):\n",
    "    greet = is_greeting(user_input)\n",
    "    if greet:\n",
    "        return greet\n",
    "\n",
    "    user_input_processed = preprocess(user_input)\n",
    "    user_vec = vectorizer.transform([user_input_processed])\n",
    "    similarity = cosine_similarity(user_vec, X)\n",
    "\n",
    "    idx = similarity.argmax()\n",
    "    score = similarity[0][idx]\n",
    "\n",
    "    if score < 0.3:\n",
    "        return \"I'm sorry, I couldn't understand that. Please rephrase or ask something else related to MRIIRS.\"\n",
    "    else:\n",
    "        return answers[idx]\n",
    "\n",
    "\n",
    "print(\"=\" * 60)\n",
    "print(\"🎓 Welcome to MRIIRS Virtual Assistant\")\n",
    "print(\"🤖 Type your question about Manav Rachna International Institute of Research Studies\")\n",
    "print(\"💬 Type 'exit' to end the chat\")\n",
    "print(\"=\" * 60)\n",
    "\n",
    "\n",
    "while True:\n",
    "    user_input = input(\"👨‍🎓 You: \")\n",
    "    if user_input.lower() in ['exit', 'quit']:\n",
    "        print(\"🤖 MRIIRS Bot: Thank you for visiting! Have a great day 😊\")\n",
    "        break\n",
    "    response = chatbot_response(user_input)\n",
    "    print(\"🤖 MRIIRS Bot:\", response)\n"
   ]
  },
  {
   "cell_type": "code",
   "execution_count": null,
   "id": "9d631220-0f5b-4c65-a94c-d826124ed867",
   "metadata": {},
   "outputs": [],
   "source": []
  }
 ],
 "metadata": {
  "kernelspec": {
   "display_name": "Python [conda env:base] *",
   "language": "python",
   "name": "conda-base-py"
  },
  "language_info": {
   "codemirror_mode": {
    "name": "ipython",
    "version": 3
   },
   "file_extension": ".py",
   "mimetype": "text/x-python",
   "name": "python",
   "nbconvert_exporter": "python",
   "pygments_lexer": "ipython3",
   "version": "3.13.5"
  }
 },
 "nbformat": 4,
 "nbformat_minor": 5
}
